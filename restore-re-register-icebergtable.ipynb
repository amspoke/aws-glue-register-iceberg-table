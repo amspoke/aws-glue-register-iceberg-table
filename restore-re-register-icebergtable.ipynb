{
 "cells": [
  {
   "cell_type": "code",
   "execution_count": null,
   "metadata": {},
   "outputs": [],
   "source": [
    "%env AWS_REGION = us-east-1\n",
    "%env AWS_ACCESS_KEY_ID = xxxxxy\n",
    "%env AWS_SECRET_ACCESS_KEY = xxxxxy\n",
    "%env AWS_SESSION_TOKEN = xxxxxy\n",
    "%env AWS_DEFAULT_REGION = us-east-1\n",
    "%env AWS_DEFAULT_OUTPUT = json"
   ]
  },
  {
   "cell_type": "code",
   "execution_count": 2,
   "metadata": {},
   "outputs": [],
   "source": [
    "import os\n",
    "from pyspark.sql import SparkSession\n",
    "from pyspark import SparkConf, __version__ as pyspark_version\n",
    "\n",
    "JAVA_HOME = \"/Library/Java/JavaVirtualMachines/amazon-corretto-17.jdk/Contents/Home\"\n",
    "os.environ[\"JAVA_HOME\"] = JAVA_HOME"
   ]
  },
  {
   "cell_type": "code",
   "execution_count": 5,
   "metadata": {},
   "outputs": [],
   "source": [
    "# Let's prepare all the packages we need to deal with glue, and iceberg tables, which requires DynamoDB, yes!\n",
    "\n",
    "aws_bundles = [\"kms\", \"glue\", \"dynamodb\", \"sts\", \"s3\", \"url-connection-client\"]\n",
    "aws_version = \"2.21.24\"\n",
    "aws_jars = \",\".join(\n",
    "    [f\"software.amazon.awssdk:{pkg}:{aws_version}\" for pkg in aws_bundles]\n",
    ")\n",
    "\n",
    "main_pyspark_version = \".\".join(pyspark_version.split(\".\")[:-1])\n",
    "# Ensure the versions for pyspark match below\n",
    "os.environ[\n",
    "    \"PYSPARK_SUBMIT_ARGS\"\n",
    "] = f\"--packages org.apache.iceberg:iceberg-spark-runtime-{main_pyspark_version}_2.12:1.4.1,{aws_jars},org.apache.spark:spark-hadoop-cloud_2.12:{pyspark_version} pyspark-shell\"\n"
   ]
  },
  {
   "cell_type": "code",
   "execution_count": 6,
   "metadata": {},
   "outputs": [],
   "source": [
    "# Initialize Spark Session with Iceberg configurations\n",
    "spark = SparkSession.builder \\\n",
    "    .appName(\"Iceberg Table Registration\") \\\n",
    "    .config(\"spark.sql.extensions\", \"org.apache.iceberg.spark.extensions.IcebergSparkSessionExtensions\") \\\n",
    "    .config(\"spark.sql.catalog.glue_catalog\", \"org.apache.iceberg.spark.SparkCatalog\") \\\n",
    "    .config(\"spark.sql.catalog.glue_catalog.warehouse\", \"s3://jegp-emr-lakeformation-useast1-v2/jegp_db.db/\") \\\n",
    "    .config(\"spark.sql.catalog.glue_catalog.catalog-impl\", \"org.apache.iceberg.aws.glue.GlueCatalog\") \\\n",
    "    .config(\"spark.sql.catalog.glue_catalog.io-impl\", \"org.apache.iceberg.aws.s3.S3FileIO\") \\\n",
    "    .getOrCreate()\n"
   ]
  },
  {
   "cell_type": "code",
   "execution_count": null,
   "metadata": {},
   "outputs": [],
   "source": [
    "# Create a new database in Glue Catalog\n",
    "database_name = \"jegp_db\"\n",
    "create_db_query = f\"CREATE DATABASE IF NOT EXISTS glue_catalog.{database_name}\"\n",
    "spark.sql(create_db_query)"
   ]
  },
  {
   "cell_type": "code",
   "execution_count": null,
   "metadata": {},
   "outputs": [],
   "source": [
    "# Register existing Iceberg table from S3 to Glue Catalog\n",
    "existing_table_location = \"s3://jegp-emr-lakeformation-useast1-v2/jegp_db.db/customer\"\n",
    "existing_metadata_file = \"00000-bd40ccb8-e67d-451f-b30a-8dcd1d1dab0d.metadata.json\"\n",
    "new_table_name = \"customer\"\n",
    "\n",
    "register_table_query = f\"\"\"\n",
    "CALL glue_catalog.system.register_table(\n",
    "    table => '{database_name}.{new_table_name}',\n",
    "    metadata_file => '{existing_table_location}/metadata/{existing_metadata_file}')\n",
    "\"\"\"\n",
    "spark.sql(register_table_query)\n",
    "\n",
    "# Verify the table was registered correctly\n",
    "spark.sql(f\"SELECT * FROM glue_catalog.{database_name}.{new_table_name} LIMIT 5\").show()\n"
   ]
  }
 ],
 "metadata": {
  "kernelspec": {
   "display_name": "Python 3",
   "language": "python",
   "name": "python3"
  },
  "language_info": {
   "codemirror_mode": {
    "name": "ipython",
    "version": 3
   },
   "file_extension": ".py",
   "mimetype": "text/x-python",
   "name": "python",
   "nbconvert_exporter": "python",
   "pygments_lexer": "ipython3",
   "version": "3.9.16"
  }
 },
 "nbformat": 4,
 "nbformat_minor": 2
}
